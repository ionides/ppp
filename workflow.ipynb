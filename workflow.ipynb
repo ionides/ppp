{
 "cells": [
  {
   "cell_type": "markdown",
   "id": "e7418212-da09-47c7-a20f-47cb0be1ee50",
   "metadata": {},
   "source": [
    "# Some notes on setting up pypomp and a related workflow\n",
    "\n",
    "## Why ipynb?\n",
    "\n",
    "These documents are developed in ipynb format, written using Jupyter Lab. \n",
    "Sofware-focused projects might use [sphinx](https://www.sphinx-doc.org/) and [readthedocs](https://about.readthedocs.com/).\n",
    "At this point, pypomp is primarily being developed as a research tool, with software engineering principles being applied to strengthen the research agenda.\n",
    "The statistics community is familiar with ipynb, and it is suitable for research projects. \n",
    "Thus, we are using it also for tutorials.\n",
    "\n",
    "## Python distribution\n",
    "\n",
    "This should not matter too much, but using an up-to-date Anaconda distribution seems reasonable"
   ]
  },
  {
   "cell_type": "code",
   "execution_count": 1,
   "id": "2820e9eb-50ab-49e4-a896-7fea8f0ca89b",
   "metadata": {},
   "outputs": [
    {
     "data": {
      "text/plain": [
       "'3.12.4 | packaged by Anaconda, Inc. | (main, Jun 18 2024, 10:07:17) [Clang 14.0.6 ]'"
      ]
     },
     "execution_count": 1,
     "metadata": {},
     "output_type": "execute_result"
    }
   ],
   "source": [
    "from sys import version\n",
    "sys.version"
   ]
  },
  {
   "cell_type": "markdown",
   "id": "2ecd9a95-2f8f-49c7-a567-d57eb5893748",
   "metadata": {},
   "source": [
    "Some packages we use (pandas, numpy, matplotlib, seaborn, scipy, pytest) come with Anaconda.\n",
    "Others we must install ourselves."
   ]
  },
  {
   "cell_type": "code",
   "execution_count": 5,
   "id": "16c82485-f519-4747-b99b-ec7018edf9a3",
   "metadata": {},
   "outputs": [],
   "source": [
    "%%capture\n",
    "%pip install tensorflow tensorflow_probability jax"
   ]
  },
  {
   "cell_type": "markdown",
   "id": "fb6403f7-91e1-45a3-8063-25813ce36176",
   "metadata": {},
   "source": [
    "This is appropriate for testing in a CPU environment. \n",
    "To use NVIDIA GPUs on a Linux machine, we woupd need\n",
    "```pip install -U \"jax[cuda12]\" ```\n",
    "and something similar for tensorflow and tensorflow_probability. \n",
    "A subsequent document on GPU setup should be linked here. "
   ]
  },
  {
   "cell_type": "markdown",
   "id": "a44bcb3b-a70d-422f-902d-02cd81e8313a",
   "metadata": {},
   "source": [
    "And last, but not least,"
   ]
  },
  {
   "cell_type": "code",
   "execution_count": 4,
   "id": "45ab337e-2aeb-4925-9c16-a135a9402d2c",
   "metadata": {},
   "outputs": [],
   "source": [
    "%%capture\n",
    "%pip install pypomp"
   ]
  },
  {
   "cell_type": "markdown",
   "id": "52dd39d4-9fa1-4bb2-b6d0-50526d5b54c3",
   "metadata": {},
   "source": [
    "## An initial test of pypomp\n",
    "\n",
    "Within the pypomp project directory, we can run \n",
    "```pytest test```\n",
    "to run all the tests in the test directory. \n",
    "\n"
   ]
  },
  {
   "cell_type": "code",
   "execution_count": null,
   "id": "e4ef575e-8f07-42cf-a958-7bb488025e67",
   "metadata": {},
   "outputs": [],
   "source": []
  }
 ],
 "metadata": {
  "kernelspec": {
   "display_name": "Python 3 (ipykernel)",
   "language": "python",
   "name": "python3"
  },
  "language_info": {
   "codemirror_mode": {
    "name": "ipython",
    "version": 3
   },
   "file_extension": ".py",
   "mimetype": "text/x-python",
   "name": "python",
   "nbconvert_exporter": "python",
   "pygments_lexer": "ipython3",
   "version": "3.12.4"
  }
 },
 "nbformat": 4,
 "nbformat_minor": 5
}
