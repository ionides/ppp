{
 "cells": [
  {
   "cell_type": "markdown",
   "id": "e7418212-da09-47c7-a20f-47cb0be1ee50",
   "metadata": {},
   "source": [
    "# Some notes on setting up pypomp and a related workflow\n",
    "\n",
    "These are based on discussions in the Sept 4, 2024, pypomp group meeting. \n",
    "\n",
    "## Why ipynb?\n",
    "\n",
    "These documents are developed in ipynb format, written using Jupyter Lab. \n",
    "Sofware-focused projects might use [sphinx](https://www.sphinx-doc.org/) and [readthedocs](https://about.readthedocs.com/).\n",
    "At this point, pypomp is primarily being developed as a research tool, with software engineering principles being applied to strengthen the research agenda.\n",
    "The statistics community is familiar with ipynb, and it is suitable for data analysis and methodology research projects. \n",
    "Thus, we are using it also for tutorials.\n",
    "\n",
    "## Python distribution\n",
    "\n",
    "This should not matter too much, but using an up-to-date Anaconda distribution seems reasonable"
   ]
  },
  {
   "cell_type": "code",
   "execution_count": 1,
   "id": "2820e9eb-50ab-49e4-a896-7fea8f0ca89b",
   "metadata": {},
   "outputs": [
    {
     "data": {
      "text/plain": [
       "'3.12.4 | packaged by Anaconda, Inc. | (main, Jun 18 2024, 10:07:17) [Clang 14.0.6 ]'"
      ]
     },
     "execution_count": 1,
     "metadata": {},
     "output_type": "execute_result"
    }
   ],
   "source": [
    "from sys import version\n",
    "sys.version"
   ]
  },
  {
   "cell_type": "markdown",
   "id": "2ecd9a95-2f8f-49c7-a567-d57eb5893748",
   "metadata": {},
   "source": [
    "Some packages we use (pandas, numpy, matplotlib, seaborn, scipy, pytest) come with Anaconda.\n",
    "Others we must install ourselves."
   ]
  },
  {
   "cell_type": "code",
   "execution_count": 5,
   "id": "16c82485-f519-4747-b99b-ec7018edf9a3",
   "metadata": {},
   "outputs": [],
   "source": [
    "%%capture\n",
    "%pip install tensorflow tensorflow_probability jax"
   ]
  },
  {
   "cell_type": "markdown",
   "id": "fb6403f7-91e1-45a3-8063-25813ce36176",
   "metadata": {},
   "source": [
    "This is appropriate for testing in a CPU environment. \n",
    "To use NVIDIA GPUs on a Linux machine, we woupd need\n",
    "```pip install -U \"jax[cuda12]\" ```\n",
    "and something similar for tensorflow and tensorflow_probability. \n",
    "A subsequent document on GPU setup should be linked here. "
   ]
  },
  {
   "cell_type": "markdown",
   "id": "a44bcb3b-a70d-422f-902d-02cd81e8313a",
   "metadata": {},
   "source": [
    "And last, but not least,"
   ]
  },
  {
   "cell_type": "code",
   "execution_count": 4,
   "id": "45ab337e-2aeb-4925-9c16-a135a9402d2c",
   "metadata": {},
   "outputs": [],
   "source": [
    "%%capture\n",
    "%pip install pypomp"
   ]
  },
  {
   "cell_type": "markdown",
   "id": "52dd39d4-9fa1-4bb2-b6d0-50526d5b54c3",
   "metadata": {},
   "source": [
    "## An initial test of pypomp\n",
    "\n",
    "Within the pypomp project directory, we can run \n",
    "```pytest test```\n",
    "to run all the tests in the test directory. \n",
    "\n"
   ]
  },
  {
   "cell_type": "code",
   "execution_count": 6,
   "id": "e4ef575e-8f07-42cf-a958-7bb488025e67",
   "metadata": {},
   "outputs": [
    {
     "name": "stdout",
     "output_type": "stream",
     "text": [
      "\u001b[1m============================= test session starts ==============================\u001b[0m\n",
      "platform darwin -- Python 3.12.4, pytest-7.4.4, pluggy-1.0.0\n",
      "rootdir: /Users/ionides/git\n",
      "plugins: anyio-4.2.0\n",
      "collected 185 items                                                            \u001b[0m\u001b[1m\n",
      "\n",
      "../pypomp/test/fit_internal_test.py \u001b[32m.\u001b[0m\u001b[32m.\u001b[0m\u001b[32m.\u001b[0m\u001b[32m.\u001b[0m\u001b[32m.\u001b[0m\u001b[32m.\u001b[0m\u001b[32m.\u001b[0m\u001b[32m.\u001b[0m\u001b[32m.\u001b[0m\u001b[32m.\u001b[0m\u001b[32m.\u001b[0m\u001b[32m.\u001b[0m\u001b[32m.\u001b[0m\u001b[32m.\u001b[0m\u001b[32m.\u001b[0m\u001b[32m.\u001b[0m\u001b[32m.\u001b[0m\u001b[32m.\u001b[0m\u001b[32m.\u001b[0m\u001b[32m.\u001b[0m\u001b[32m.\u001b[0m\u001b[32m.\u001b[0m\u001b[32m.\u001b[0m\u001b[32m.\u001b[0m\u001b[32m.\u001b[0m\u001b[32m.\u001b[0m\u001b[32m.\u001b[0m\u001b[32m.\u001b[0m\u001b[32m.\u001b[0m\u001b[32m.\u001b[0m\u001b[32m.\u001b[0m\u001b[32m.\u001b[0m\u001b[32m.\u001b[0m\u001b[32m.\u001b[0m\u001b[32m.\u001b[0m\u001b[32m.\u001b[0m\u001b[33m [ 19%]\n",
      "\u001b[0m\u001b[32m.\u001b[0m\u001b[32m.\u001b[0m\u001b[32m.\u001b[0m\u001b[32m.\u001b[0m\u001b[32m.\u001b[0m\u001b[32m.\u001b[0m\u001b[32m.\u001b[0m\u001b[33m                                                                  [ 23%]\u001b[0m\n",
      "../pypomp/test/fit_test.py \u001b[32m.\u001b[0m\u001b[32m.\u001b[0m\u001b[32m.\u001b[0m\u001b[32m.\u001b[0m\u001b[32m.\u001b[0m\u001b[32m.\u001b[0m\u001b[32m.\u001b[0m\u001b[32m.\u001b[0m\u001b[32m.\u001b[0m\u001b[33m                                     [ 28%]\u001b[0m\n",
      "../pypomp/test/mop_internal_test.py \u001b[32m.\u001b[0m\u001b[32m.\u001b[0m\u001b[32m.\u001b[0m\u001b[32m.\u001b[0m\u001b[32m.\u001b[0m\u001b[32m.\u001b[0m\u001b[32m.\u001b[0m\u001b[32m.\u001b[0m\u001b[32m.\u001b[0m\u001b[32m.\u001b[0m\u001b[32m.\u001b[0m\u001b[32m.\u001b[0m\u001b[32m.\u001b[0m\u001b[32m.\u001b[0m\u001b[32m.\u001b[0m\u001b[32m.\u001b[0m\u001b[32m.\u001b[0m\u001b[32m.\u001b[0m\u001b[32m.\u001b[0m\u001b[32m.\u001b[0m\u001b[32m.\u001b[0m\u001b[32m.\u001b[0m\u001b[32m.\u001b[0m\u001b[32m.\u001b[0m\u001b[32m.\u001b[0m\u001b[32m.\u001b[0m\u001b[33m           [ 42%]\u001b[0m\n",
      "../pypomp/test/mop_test.py \u001b[32m.\u001b[0m\u001b[32m.\u001b[0m\u001b[32m.\u001b[0m\u001b[33m                                           [ 43%]\u001b[0m\n",
      "../pypomp/test/perfilter_internal_test.py \u001b[32m.\u001b[0m\u001b[32m.\u001b[0m\u001b[32m.\u001b[0m\u001b[32m.\u001b[0m\u001b[32m.\u001b[0m\u001b[32m.\u001b[0m\u001b[32m.\u001b[0m\u001b[32m.\u001b[0m\u001b[32m.\u001b[0m\u001b[32m.\u001b[0m\u001b[32m.\u001b[0m\u001b[32m.\u001b[0m\u001b[32m.\u001b[0m\u001b[32m.\u001b[0m\u001b[32m.\u001b[0m\u001b[32m.\u001b[0m\u001b[32m.\u001b[0m\u001b[32m.\u001b[0m\u001b[32m.\u001b[0m\u001b[32m.\u001b[0m\u001b[32m.\u001b[0m\u001b[32m.\u001b[0m\u001b[32m.\u001b[0m\u001b[32m.\u001b[0m\u001b[32m.\u001b[0m\u001b[32m.\u001b[0m\u001b[32m.\u001b[0m\u001b[32m.\u001b[0m\u001b[33m   [ 58%]\u001b[0m\n",
      "../pypomp/test/perfilter_test.py \u001b[32m.\u001b[0m\u001b[32m.\u001b[0m\u001b[32m.\u001b[0m\u001b[33m                                     [ 60%]\u001b[0m\n",
      "../pypomp/test/pfilter_internal_test.py \u001b[32m.\u001b[0m\u001b[32m.\u001b[0m\u001b[32m.\u001b[0m\u001b[32m.\u001b[0m\u001b[32m.\u001b[0m\u001b[32m.\u001b[0m\u001b[32m.\u001b[0m\u001b[32m.\u001b[0m\u001b[32m.\u001b[0m\u001b[32m.\u001b[0m\u001b[32m.\u001b[0m\u001b[32m.\u001b[0m\u001b[32m.\u001b[0m\u001b[32m.\u001b[0m\u001b[32m.\u001b[0m\u001b[32m.\u001b[0m\u001b[32m.\u001b[0m\u001b[32m.\u001b[0m\u001b[32m.\u001b[0m\u001b[32m.\u001b[0m\u001b[32m.\u001b[0m\u001b[32m.\u001b[0m\u001b[32m.\u001b[0m\u001b[32m.\u001b[0m\u001b[32m.\u001b[0m\u001b[32m.\u001b[0m\u001b[33m       [ 74%]\u001b[0m\n",
      "../pypomp/test/pfilter_pf_internal_test.py \u001b[32m.\u001b[0m\u001b[32m.\u001b[0m\u001b[32m.\u001b[0m\u001b[32m.\u001b[0m\u001b[32m.\u001b[0m\u001b[32m.\u001b[0m\u001b[32m.\u001b[0m\u001b[32m.\u001b[0m\u001b[32m.\u001b[0m\u001b[32m.\u001b[0m\u001b[32m.\u001b[0m\u001b[32m.\u001b[0m\u001b[32m.\u001b[0m\u001b[32m.\u001b[0m\u001b[32m.\u001b[0m\u001b[32m.\u001b[0m\u001b[32m.\u001b[0m\u001b[32m.\u001b[0m\u001b[32m.\u001b[0m\u001b[32m.\u001b[0m\u001b[32m.\u001b[0m\u001b[32m.\u001b[0m\u001b[32m.\u001b[0m\u001b[32m.\u001b[0m\u001b[32m.\u001b[0m\u001b[33m     [ 88%]\u001b[0m\n",
      "../pypomp/test/pfilter_pf_test.py \u001b[32m.\u001b[0m\u001b[32m.\u001b[0m\u001b[32m.\u001b[0m\u001b[33m                                    [ 89%]\u001b[0m\n",
      "../pypomp/test/pfilter_test.py \u001b[32m.\u001b[0m\u001b[32m.\u001b[0m\u001b[32m.\u001b[0m\u001b[33m                                       [ 91%]\u001b[0m\n",
      "../pypomp/test/pompclass_test.py \u001b[32m.\u001b[0m\u001b[32m.\u001b[0m\u001b[32m.\u001b[0m\u001b[32m.\u001b[0m\u001b[32m.\u001b[0m\u001b[32m.\u001b[0m\u001b[32m.\u001b[0m\u001b[32m.\u001b[0m\u001b[32m.\u001b[0m\u001b[32m.\u001b[0m\u001b[32m.\u001b[0m\u001b[32m.\u001b[0m\u001b[32m.\u001b[0m\u001b[32m.\u001b[0m\u001b[32m.\u001b[0m\u001b[32m.\u001b[0m\u001b[33m                        [100%]\u001b[0m\n",
      "\n",
      "\u001b[33m=============================== warnings summary ===============================\u001b[0m\n",
      "<frozen importlib._bootstrap>:488\n",
      "  <frozen importlib._bootstrap>:488: DeprecationWarning: Type google.protobuf.pyext._message.ScalarMapContainer uses PyType_Spec with a metaclass that has custom tp_new. This is deprecated and will no longer be allowed in Python 3.14.\n",
      "\n",
      "<frozen importlib._bootstrap>:488\n",
      "  <frozen importlib._bootstrap>:488: DeprecationWarning: Type google.protobuf.pyext._message.MessageMapContainer uses PyType_Spec with a metaclass that has custom tp_new. This is deprecated and will no longer be allowed in Python 3.14.\n",
      "\n",
      "../../../../opt/anaconda3/lib/python3.12/site-packages/google/protobuf/internal/well_known_types.py:91\n",
      "  /opt/anaconda3/lib/python3.12/site-packages/google/protobuf/internal/well_known_types.py:91: DeprecationWarning: datetime.datetime.utcfromtimestamp() is deprecated and scheduled for removal in a future version. Use timezone-aware objects to represent datetimes in UTC: datetime.datetime.fromtimestamp(timestamp, datetime.UTC).\n",
      "    _EPOCH_DATETIME_NAIVE = datetime.datetime.utcfromtimestamp(0)\n",
      "\n",
      "../../../../opt/anaconda3/lib/python3.12/site-packages/tensorflow/lite/python/util.py:55\n",
      "../../../../opt/anaconda3/lib/python3.12/site-packages/tensorflow/lite/python/util.py:55\n",
      "  /opt/anaconda3/lib/python3.12/site-packages/tensorflow/lite/python/util.py:55: DeprecationWarning: jax.xla_computation is deprecated. Please use the AOT APIs; see https://jax.readthedocs.io/en/latest/aot.html. For example, replace xla_computation(f)(*xs) with jit(f).lower(*xs).compiler_ir('hlo'). See CHANGELOG.md for 0.4.30 for more examples.\n",
      "    from jax import xla_computation as _xla_computation\n",
      "\n",
      "-- Docs: https://docs.pytest.org/en/stable/how-to/capture-warnings.html\n",
      "\u001b[33m================= \u001b[32m185 passed\u001b[0m, \u001b[33m\u001b[1m5 warnings\u001b[0m\u001b[33m in 109.76s (0:01:49)\u001b[0m\u001b[33m ==================\u001b[0m\n"
     ]
    }
   ],
   "source": [
    "!pytest ~/git/pypomp/test"
   ]
  },
  {
   "cell_type": "markdown",
   "id": "43bbeaba-a1e1-45c2-a824-7e375d02a96a",
   "metadata": {},
   "source": [
    "* The warnings here are all related to installed dependencies, not pypomp directly. \n",
    "\n",
    "* It seems that no action is required apart from routine updating all packages.   "
   ]
  }
 ],
 "metadata": {
  "kernelspec": {
   "display_name": "Python 3 (ipykernel)",
   "language": "python",
   "name": "python3"
  },
  "language_info": {
   "codemirror_mode": {
    "name": "ipython",
    "version": 3
   },
   "file_extension": ".py",
   "mimetype": "text/x-python",
   "name": "python",
   "nbconvert_exporter": "python",
   "pygments_lexer": "ipython3",
   "version": "3.12.4"
  }
 },
 "nbformat": 4,
 "nbformat_minor": 5
}
