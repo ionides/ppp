{
 "cells": [
  {
   "cell_type": "markdown",
   "id": "d81b866c-4e32-42ff-ac44-0b10621309ce",
   "metadata": {},
   "source": [
    "# pypomp on greatlakes\n",
    "\n",
    "The [greatlakes GPUs](https://its.umich.edu/advanced-research-computing/high-performance-computing/great-lakes/rates) are a convenient resource for high-performance computing at University of Michigan.\n",
    "\n",
    "The greatlakes gpu partition has 52 Nvidia Tesla V100 GPUs. To obtain access to a GPU via an interactive seesion (i.e., a terminal prompt) once can do\n",
    "\n",
    "```\n",
    "salloc --account=ionides0 --partition=gpu --gpus=v100:1 --cpus-per-gpu=1\n",
    "```\n",
    "\n",
    "I used\n",
    "```\n",
    "module load python\n",
    "```\n",
    "and built tensorflow and jax locally, e.g.\n",
    "```\n",
    "pip install tensorflow[and-cuda]\n",
    "pip install -U \"jax[cuda12]\"\n",
    "```\n",
    "\n",
    "Then install everything else needed,\n",
    "```\n",
    "pip install tensorflow_probability tqdm tensorrt pypomp\n",
    "```\n",
    "\n",
    "It seesm that tensorflow and JAX are workig, e.g., \n",
    "\n",
    "```\n",
    "python -c \"import tensorflow as tf; print(tf.config.list_physical_devices('GPU'))\"\n",
    "[PhysicalDevice(name='/physical_device:GPU:0', device_type='GPU')]\n",
    "\n",
    "python -c \"import tensorflow as tf; print(tf.reduce_sum(tf.random.normal([10, 10])))\"\n",
    "tf.Tensor(2.1833556, shape=(), dtype=float32\n",
    "\n",
    "python -c \"import jax.numpy as np; print(np.ones((3,3)))\"\n",
    "\n",
    "```\n",
    "\n",
    "However, the pypomp tests failed\n",
    "\n"
   ]
  },
  {
   "cell_type": "code",
   "execution_count": null,
   "id": "f673e2ab-a13d-42b0-a986-82bda7aca259",
   "metadata": {},
   "outputs": [],
   "source": [
    "\n"
   ]
  }
 ],
 "metadata": {
  "kernelspec": {
   "display_name": "Python 3 (ipykernel)",
   "language": "python",
   "name": "python3"
  },
  "language_info": {
   "codemirror_mode": {
    "name": "ipython",
    "version": 3
   },
   "file_extension": ".py",
   "mimetype": "text/x-python",
   "name": "python",
   "nbconvert_exporter": "python",
   "pygments_lexer": "ipython3",
   "version": "3.12.4"
  }
 },
 "nbformat": 4,
 "nbformat_minor": 5
}
