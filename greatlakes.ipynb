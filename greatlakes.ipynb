{
 "cells": [
  {
   "cell_type": "markdown",
   "id": "d81b866c-4e32-42ff-ac44-0b10621309ce",
   "metadata": {},
   "source": [
    "# pypomp on greatlakes\n",
    "\n",
    "The [greatlakes GPUs](https://its.umich.edu/advanced-research-computing/high-performance-computing/great-lakes/rates) are a convenient resource for high-performance computing at University of Michigan.\n",
    "The greatlakes gpu partition has 52 Nvidia Tesla V100 GPUs. \n",
    "\n",
    "## Testing in an interactive session\n",
    "\n",
    "To obtain access to a GPU via an interactive seesion (i.e., a terminal prompt) once can do\n",
    "\n",
    "```\n",
    "salloc --account=ionides0 --partition=gpu --gpus=v100:1 --cpus-per-gpu=1 --mem=8000\n",
    "```\n",
    "\n",
    "I set up the Python environment on the login node\n",
    "```\n",
    "module load python\n",
    "python -m venv ~/opt/py3.12\n",
    "source ~/opt/py3.12/bin/activate\n",
    "pip install jax[cuda12]\n",
    "pip install pypomp pytest tqdm\n",
    "git clone git@github.com:pypomp/pypomp\n",
    "```\n",
    "and built jax with cuda:\n",
    "```\n",
    "pip install -U \"jax[cuda12]\"\n",
    "```\n",
    "\n",
    "Then install everything else needed,\n",
    "```\n",
    "pip install pypomp pytest tqdm\n",
    "```\n",
    "\n",
    "At this point, running ```salloc```, as above, starts a machine with a GPU.  \n",
    "Then check we have access to the GPUs:\n",
    "```\n",
    "salloc --account=ionides0 --partition=gpu --gpus=v100:1 --cpus-per-gpu=1 --mem=8000\n",
    "nvidia-smi\n",
    "```\n",
    "It is necessary to restart the Python environment for the new machine.\n",
    "A simple JAX test is working. \n",
    "So are the pypomp tests.\n",
    "```\n",
    "module load python\n",
    "source ~/opt/py3.12/bin/activate\n",
    "python -c \"import jax.numpy as np; print(np.ones((3,3)))\"\n",
    "pytest pypomp/test\n",
    "\n",
    "```\n",
    "The tests took almost 6 minutes to run.\n",
    "\n",
    "An earlier test with pympomp 0.0.2 failed, perhaps because of some difficulty with tensorflow (which is not needed for the current pypomp, but was installed anyhow). \n",
    "\n",
    "An earlier test with pypomp 0.0.3 failed, perhaps because of using anaconda. There is a rumor that the anaconda distribution can have problems with jax[cuda12].\n"
   ]
  },
  {
   "cell_type": "markdown",
   "id": "34346608-2263-4c7b-a4a7-1691370f0de4",
   "metadata": {},
   "source": [
    "## Testing a batch job\n",
    "\n",
    "Once the Python environment is set up as above, one can replace the interactive session above by a batch job. \n",
    "The following is put in greatlakes.sbat\n",
    "```\n",
    "#!/bin/bash\n",
    "\n",
    "#SBATCH --job-name=gpu-pypomp-test\n",
    "#SBATCH --mail-user=ionides@umich.edu\n",
    "#SBATCH --mail-type=BEGIN,END,FAIL\n",
    "#SBATCH --account=ionides0\n",
    "#SBATCH --partition=gpu\n",
    "#SBATCH --gpus=v100:1\n",
    "#SBATCH --cpus-per-gpu=1\n",
    "#SBATCH --mem=4GB\n",
    "### wall time hours:minutes:seconds\n",
    "#SBATCH --time=00:10:00\n",
    "\n",
    "###   Load software modules\n",
    "module load python/3.12.1\n",
    "module list\n",
    "\n",
    "####  Commands your job should run follow this line\n",
    "echo \"Running on $SLURM_JOB_NODELIST\"\n",
    "echo \"Running in $(pwd)\"\n",
    "source ~/opt/py3.12/bin/activate\n",
    "pytest ~/pypomp/test\n",
    "\n"
   ]
  },
  {
   "cell_type": "markdown",
   "id": "ed833e77-f85b-4cac-b741-96480472eff5",
   "metadata": {},
   "source": [
    "Then, ```sbatch greatlakes.sbat``` runs the tests.\n"
   ]
  },
  {
   "cell_type": "code",
   "execution_count": null,
   "id": "b9fd5d11-1fdd-484d-b2c2-8cff939ff734",
   "metadata": {},
   "outputs": [],
   "source": []
  }
 ],
 "metadata": {
  "kernelspec": {
   "display_name": "Python 3 (ipykernel)",
   "language": "python",
   "name": "python3"
  },
  "language_info": {
   "codemirror_mode": {
    "name": "ipython",
    "version": 3
   },
   "file_extension": ".py",
   "mimetype": "text/x-python",
   "name": "python",
   "nbconvert_exporter": "python",
   "pygments_lexer": "ipython3",
   "version": "3.12.4"
  }
 },
 "nbformat": 4,
 "nbformat_minor": 5
}
